{
 "cells": [
  {
   "cell_type": "code",
   "execution_count": null,
   "metadata": {},
   "outputs": [],
   "source": []
  },
  {
   "cell_type": "code",
   "execution_count": null,
   "metadata": {},
   "outputs": [],
   "source": []
  },
  {
   "cell_type": "code",
   "execution_count": null,
   "metadata": {},
   "outputs": [],
   "source": [
    "def gen(test):"
   ]
  },
  {
   "cell_type": "code",
   "execution_count": 8,
   "metadata": {},
   "outputs": [],
   "source": [
    "from gcopy.custom_generator import Pickler\n",
    "\n",
    "\n",
    "def gtest1():\n",
    "    yield 10\n",
    "    yield 20\n",
    "    yield 30\n",
    "\n",
    "\n",
    "def test_1():\n",
    "    t1 = gtest1()\n",
    "    tc = Pickler()._copier(t1)\n",
    "    assert next(tc) == 10\n",
    "    assert next(tc) == 20\n",
    "\n",
    "    assert next(t1) == 10\n",
    "    tc = Pickler()._copier(t1)\n",
    "    assert next(tc) == 20"
   ]
  },
  {
   "cell_type": "code",
   "execution_count": 2,
   "metadata": {},
   "outputs": [
    {
     "ename": "IndexError",
     "evalue": "list index out of range",
     "output_type": "error",
     "traceback": [
      "\u001b[0;31m---------------------------------------------------------------------------\u001b[0m",
      "\u001b[0;31mIndexError\u001b[0m                                Traceback (most recent call last)",
      "Cell \u001b[0;32mIn[2], line 20\u001b[0m\n\u001b[1;32m     17\u001b[0m     tc \u001b[38;5;241m=\u001b[39m deepcopy(tc)\n\u001b[1;32m     18\u001b[0m     \u001b[38;5;28;01massert\u001b[39;00m \u001b[38;5;28mnext\u001b[39m(tc) \u001b[38;5;241m==\u001b[39m \u001b[38;5;241m20\u001b[39m\n\u001b[0;32m---> 20\u001b[0m \u001b[43mtest_1\u001b[49m\u001b[43m(\u001b[49m\u001b[43m)\u001b[49m\n",
      "Cell \u001b[0;32mIn[2], line 11\u001b[0m, in \u001b[0;36mtest_1\u001b[0;34m()\u001b[0m\n\u001b[1;32m      9\u001b[0m \u001b[38;5;28;01mdef\u001b[39;00m\u001b[38;5;250m \u001b[39m\u001b[38;5;21mtest_1\u001b[39m():\n\u001b[1;32m     10\u001b[0m     t1 \u001b[38;5;241m=\u001b[39m gtest1()\n\u001b[0;32m---> 11\u001b[0m     tc \u001b[38;5;241m=\u001b[39m \u001b[43mGenerator\u001b[49m\u001b[43m(\u001b[49m\u001b[43mt1\u001b[49m\u001b[43m)\u001b[49m\n\u001b[1;32m     12\u001b[0m     tc \u001b[38;5;241m=\u001b[39m deepcopy(tc)\n\u001b[1;32m     13\u001b[0m     \u001b[38;5;28;01massert\u001b[39;00m \u001b[38;5;28mnext\u001b[39m(tc) \u001b[38;5;241m==\u001b[39m \u001b[38;5;241m10\u001b[39m\n",
      "File \u001b[0;32m~/Documents/code/active/pep-323/gcopy/custom_generator.py:1149\u001b[0m, in \u001b[0;36mGenerator.__init__\u001b[0;34m(self, FUNC, overwrite)\u001b[0m\n\u001b[1;32m   1147\u001b[0m     \u001b[38;5;28mself\u001b[39m\u001b[38;5;241m.\u001b[39msource\u001b[38;5;241m=\u001b[39mgetsource(FUNC\u001b[38;5;241m.\u001b[39mgi_code)\n\u001b[1;32m   1148\u001b[0m     \u001b[38;5;28mself\u001b[39m\u001b[38;5;241m.\u001b[39m_source_lines\u001b[38;5;241m=\u001b[39m\u001b[38;5;28mself\u001b[39m\u001b[38;5;241m.\u001b[39m_clean_source_lines(\u001b[38;5;28;01mTrue\u001b[39;00m)\n\u001b[0;32m-> 1149\u001b[0m     \u001b[38;5;28mself\u001b[39m\u001b[38;5;241m.\u001b[39mlineno\u001b[38;5;241m=\u001b[39m\u001b[38;5;28;43mself\u001b[39;49m\u001b[38;5;241;43m.\u001b[39;49m\u001b[43mlinetable\u001b[49m\u001b[43m[\u001b[49m\u001b[43mFUNC\u001b[49m\u001b[38;5;241;43m.\u001b[39;49m\u001b[43mgi_frame\u001b[49m\u001b[38;5;241;43m.\u001b[39;49m\u001b[43mf_lineno\u001b[49m\u001b[38;5;241;43m-\u001b[39;49m\u001b[38;5;241;43m1\u001b[39;49m\u001b[43m]\u001b[49m\u001b[38;5;241m+\u001b[39mlineno_adjust(FUNC)\n\u001b[1;32m   1150\u001b[0m \u001b[38;5;28mself\u001b[39m\u001b[38;5;241m.\u001b[39mgi_code\u001b[38;5;241m=\u001b[39mcode(FUNC\u001b[38;5;241m.\u001b[39mgi_code)\n\u001b[1;32m   1151\u001b[0m \u001b[38;5;66;03m## 'gi_yieldfrom' was introduced in python version 3.5 and yield from ... in 3.3 ##\u001b[39;00m\n",
      "\u001b[0;31mIndexError\u001b[0m: list index out of range"
     ]
    }
   ],
   "source": [
    "from gcopy.custom_generator import Generator\n",
    "from copy import deepcopy\n",
    "\n",
    "\n",
    "def gtest1():\n",
    "    yield 10\n",
    "    yield 20\n",
    "    yield 30\n",
    "\n",
    "\n",
    "def test_1():\n",
    "    t1 = gtest1()\n",
    "    tc = Generator(t1)\n",
    "    tc = deepcopy(tc)\n",
    "    assert next(tc) == 10\n",
    "    assert next(tc) == 20\n",
    "\n",
    "    assert next(t1) == 10\n",
    "    tc = deepcopy(tc)\n",
    "    assert next(tc) == 20\n",
    "\n",
    "\n",
    "test_1()"
   ]
  },
  {
   "cell_type": "code",
   "execution_count": 3,
   "metadata": {},
   "outputs": [
    {
     "ename": "IndexError",
     "evalue": "list index out of range",
     "output_type": "error",
     "traceback": [
      "\u001b[0;31m---------------------------------------------------------------------------\u001b[0m",
      "\u001b[0;31mIndexError\u001b[0m                                Traceback (most recent call last)",
      "Cell \u001b[0;32mIn[3], line 3\u001b[0m\n\u001b[1;32m      1\u001b[0m \u001b[38;5;28;01mimport\u001b[39;00m\u001b[38;5;250m \u001b[39m\u001b[38;5;21;01mpickle\u001b[39;00m\n\u001b[0;32m----> 3\u001b[0m gen\u001b[38;5;241m=\u001b[39m\u001b[43mGenerator\u001b[49m\u001b[43m(\u001b[49m\u001b[43mgtest1\u001b[49m\u001b[43m(\u001b[49m\u001b[43m)\u001b[49m\u001b[43m)\u001b[49m\n\u001b[1;32m      4\u001b[0m pickle\u001b[38;5;241m.\u001b[39mdump(gen,\u001b[38;5;124m\"\u001b[39m\u001b[38;5;124mgen.pkl\u001b[39m\u001b[38;5;124m\"\u001b[39m)\n\u001b[1;32m      5\u001b[0m pickle\u001b[38;5;241m.\u001b[39mload(\u001b[38;5;124m\"\u001b[39m\u001b[38;5;124mgen.pkl\u001b[39m\u001b[38;5;124m\"\u001b[39m)\n",
      "File \u001b[0;32m~/Documents/code/active/pep-323/gcopy/custom_generator.py:1116\u001b[0m, in \u001b[0;36mGenerator.__init__\u001b[0;34m(self, FUNC, overwrite)\u001b[0m\n\u001b[1;32m   1114\u001b[0m     \u001b[38;5;28mself\u001b[39m\u001b[38;5;241m.\u001b[39msource\u001b[38;5;241m=\u001b[39mgetsource(FUNC\u001b[38;5;241m.\u001b[39mgi_code)\n\u001b[1;32m   1115\u001b[0m     \u001b[38;5;28mself\u001b[39m\u001b[38;5;241m.\u001b[39m_source_lines\u001b[38;5;241m=\u001b[39m\u001b[38;5;28mself\u001b[39m\u001b[38;5;241m.\u001b[39m_clean_source_lines()\n\u001b[0;32m-> 1116\u001b[0m     \u001b[38;5;28mself\u001b[39m\u001b[38;5;241m.\u001b[39mlineno\u001b[38;5;241m=\u001b[39m\u001b[38;5;28;43mself\u001b[39;49m\u001b[38;5;241;43m.\u001b[39;49m\u001b[43mlinetable\u001b[49m\u001b[43m[\u001b[49m\u001b[43mFUNC\u001b[49m\u001b[38;5;241;43m.\u001b[39;49m\u001b[43mgi_frame\u001b[49m\u001b[38;5;241;43m.\u001b[39;49m\u001b[43mf_lineno\u001b[49m\u001b[38;5;241;43m-\u001b[39;49m\u001b[38;5;241;43m1\u001b[39;49m\u001b[43m]\u001b[49m\u001b[38;5;241m+\u001b[39mlineno_adjust(FUNC)\n\u001b[1;32m   1117\u001b[0m \u001b[38;5;28mself\u001b[39m\u001b[38;5;241m.\u001b[39mgi_code\u001b[38;5;241m=\u001b[39mcode(FUNC\u001b[38;5;241m.\u001b[39mgi_code)\n\u001b[1;32m   1118\u001b[0m \u001b[38;5;66;03m## 'gi_yieldfrom' was introduced in python version 3.5 and yield from ... in 3.3 ##\u001b[39;00m\n",
      "\u001b[0;31mIndexError\u001b[0m: list index out of range"
     ]
    }
   ],
   "source": [
    "import pickle\n",
    "\n",
    "gen = Generator(gtest1())\n",
    "pickle.dump(gen, \"gen.pkl\")\n",
    "pickle.load(\"gen.pkl\")"
   ]
  }
 ],
 "metadata": {
  "kernelspec": {
   "display_name": ".venv",
   "language": "python",
   "name": "python3"
  },
  "language_info": {
   "codemirror_mode": {
    "name": "ipython",
    "version": 3
   },
   "file_extension": ".py",
   "mimetype": "text/x-python",
   "name": "python",
   "nbconvert_exporter": "python",
   "pygments_lexer": "ipython3",
   "version": "3.12.0"
  }
 },
 "nbformat": 4,
 "nbformat_minor": 2
}
