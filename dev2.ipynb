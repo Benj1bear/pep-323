{
 "cells": [
  {
   "cell_type": "code",
   "execution_count": 5,
   "metadata": {},
   "outputs": [],
   "source": [
    "from gcopy.my_copy import (\n",
    "    Code,\n",
    "    get_implicit_iterator_in_for_loop_everywhere,\n",
    "    get_implicit_iterator_in_for_loop,\n",
    ")\n",
    "import inspect"
   ]
  },
  {
   "cell_type": "markdown",
   "metadata": {},
   "source": [
    "### jupyter use to quick tests"
   ]
  },
  {
   "cell_type": "code",
   "execution_count": 6,
   "metadata": {},
   "outputs": [],
   "source": [
    "def my_copy(generator):\n",
    "    code = Code.from_generator(generator)\n",
    "    args = (\n",
    "        generator.gi_frame.f_locals.copy()\n",
    "    )  # need to pass all globals that may be used as well.\n",
    "    args = \",\".join(f\"{k}={v}\" for k, v in args.items())\n",
    "    return _my_copy(code, args)\n",
    "\n",
    "\n",
    "def _my_copy(code, args, current=None):\n",
    "    # function def, not really needed, but fine\n",
    "\n",
    "    new_code = current if current else Code(f\"def saved({args}):\\n\")\n",
    "    line = code.running_line + 1\n",
    "\n",
    "    # start with the most extenral block\n",
    "    if code.block in [\"if\", \"else:\", \"elif\"]:\n",
    "        # if if is inside a while\n",
    "        new_code += \"    if True:\"\n",
    "        new_code += \"        pass\"\n",
    "    elif code.block == \"while\":\n",
    "        # If while is found the rest of the iteration goes to the top. as is the starting point\n",
    "        new_code += code.scope_after.dedent.indent\n",
    "        line = code.block_start_line\n",
    "    elif code.block == \"for\":\n",
    "        # worst case as we need to capture the iterator with magic\n",
    "        new_code += code.scope_after.dedent.indent\n",
    "        new_code += \"for NOTIMPLEMENTED\"\n",
    "        line = code.block_start_line + 1\n",
    "\n",
    "    # main code\n",
    "    new_code += code[line:]\n",
    "\n",
    "    # executor\n",
    "    new_code += f\"n = saved({args})\"\n",
    "    print(new_code.code)\n",
    "    exec(new_code.code)\n",
    "    return eval(\"n\")"
   ]
  },
  {
   "cell_type": "code",
   "execution_count": 7,
   "metadata": {},
   "outputs": [],
   "source": [
    "def test(a):\n",
    "    a = a + 2\n",
    "    yield a\n",
    "    while True:\n",
    "        a += 1\n",
    "        if a > 5:\n",
    "            yield a\n",
    "        a += 2"
   ]
  },
  {
   "cell_type": "code",
   "execution_count": 8,
   "metadata": {},
   "outputs": [],
   "source": [
    "def my_copy(generator):\n",
    "    code = Code.from_generator(generator)\n",
    "    args = (\n",
    "        generator.gi_frame.f_locals.copy()\n",
    "    )  # need to pass all globals that may be used as well.\n",
    "    args = \",\".join(f\"{k}={v}\" for k, v in args.items())\n",
    "    return _my_copy(code, args)\n",
    "\n",
    "\n",
    "def _my_copy(code, args, current=None):\n",
    "    # function def, not really needed, but fine\n",
    "\n",
    "    new_code = current if current else Code(f\"def saved({args}):\\n\")\n",
    "    line = code.running_line + 1\n",
    "\n",
    "    # start with the most extenral block\n",
    "    if code.block in [\"if\", \"else:\", \"elif\"]:\n",
    "        # if if is inside a while\n",
    "        new_code += \"    if True:\"\n",
    "        new_code += \"        pass\"\n",
    "    elif code.block == \"while\":\n",
    "        # If while is found the rest of the iteration goes to the top. as is the starting point\n",
    "        new_code += code.scope_after.dedent.indent\n",
    "        line = code.block_start_line\n",
    "    elif code.block == \"for\":\n",
    "        # worst case as we need to capture the iterator with magic\n",
    "        new_code += code.scope_after.dedent.indent\n",
    "        new_code += \"for NOTIMPLEMENTED\"\n",
    "        line = code.block_start_line + 1\n",
    "\n",
    "    # main code\n",
    "    new_code += code[line:]\n",
    "\n",
    "    # executor\n",
    "    new_code += f\"n = saved({args})\"\n",
    "    print(new_code.code)\n",
    "    exec(new_code.code)\n",
    "    return eval(\"n\")"
   ]
  },
  {
   "cell_type": "code",
   "execution_count": 9,
   "metadata": {},
   "outputs": [
    {
     "data": {
      "text/plain": [
       "13"
      ]
     },
     "execution_count": 9,
     "metadata": {},
     "output_type": "execute_result"
    }
   ],
   "source": [
    "t1 = test(10)\n",
    "next(t1)\n",
    "next(t1)"
   ]
  },
  {
   "cell_type": "code",
   "execution_count": 10,
   "metadata": {},
   "outputs": [],
   "source": [
    "code = Code.from_generator(t1)"
   ]
  },
  {
   "cell_type": "code",
   "execution_count": 11,
   "metadata": {},
   "outputs": [
    {
     "data": {
      "text/plain": [
       "def test(a):\n",
       "    a = a + 2\n",
       "    yield a\n",
       "    while True:\n",
       "        a += 1\n",
       "        if a > 5:\n",
       "            yield a\n",
       "        a += 2"
      ]
     },
     "execution_count": 11,
     "metadata": {},
     "output_type": "execute_result"
    }
   ],
   "source": [
    "code"
   ]
  }
 ],
 "metadata": {
  "kernelspec": {
   "display_name": ".venv",
   "language": "python",
   "name": "python3"
  },
  "language_info": {
   "codemirror_mode": {
    "name": "ipython",
    "version": 3
   },
   "file_extension": ".py",
   "mimetype": "text/x-python",
   "name": "python",
   "nbconvert_exporter": "python",
   "pygments_lexer": "ipython3",
   "version": "3.12.0"
  }
 },
 "nbformat": 4,
 "nbformat_minor": 2
}
