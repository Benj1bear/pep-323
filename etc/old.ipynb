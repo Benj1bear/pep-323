{
 "cells": [
  {
   "cell_type": "code",
   "execution_count": 1,
   "id": "3ad111c9-a9c1-458f-9d4e-d3396021a3b4",
   "metadata": {
    "tags": []
   },
   "outputs": [
    {
     "name": "stdout",
     "output_type": "stream",
     "text": [
      "[1, 2, 3]\n"
     ]
    }
   ],
   "source": [
    "nothing here"
   ]
  },
  {
   "cell_type": "markdown",
   "id": "fa1d22f0",
   "metadata": {},
   "source": [
    "import inspect\n",
    "import ast\n",
    "\n",
    "ast_string = ast.dump(ast.parse(\"[1,2,3]\"))\n",
    "\n",
    "\n",
    "def to_ast(d):\n",
    "    if isinstance(d, ast.Call):\n",
    "        return getattr(ast, d.func.id)(\n",
    "            *map(to_ast, d.args),\n",
    "            **{i.arg: to_ast(i.value) for i in d.keywords},\n",
    "            **{\n",
    "                \"lineno\": None,\n",
    "                \"col_offset\": None,\n",
    "                \"end_lineno\": None,\n",
    "                \"end_col_offset\": None,\n",
    "            },\n",
    "        )\n",
    "    if isinstance(d, ast.List):\n",
    "        return list(map(to_ast, d.elts))\n",
    "    return d.value\n",
    "\n",
    "\n",
    "def ast_to_code(ast_string):\n",
    "    return ast.unparse(to_ast(ast.parse(ast_string).body[0].value))\n",
    "\n",
    "\n",
    "import ast, re\n",
    "\n",
    "\n",
    "def ast_to_code(ast_string):\n",
    "    return ast.unparse(\n",
    "        eval(re.sub(\"\\w+(?=\\()\", lambda x: f\"ast.{x.group()}\", ast_string))\n",
    "    )\n",
    "\n",
    "\n",
    "ast_string = ast.dump(ast.parse(\"[1,2,3]\"))\n",
    "print(ast_to_code(ast_string))"
   ]
  },
  {
   "cell_type": "code",
   "execution_count": 135,
   "id": "46601b3f-d6d3-4ea6-973b-feb25866ea8a",
   "metadata": {
    "tags": []
   },
   "outputs": [
    {
     "name": "stdout",
     "output_type": "stream",
     "text": [
      "test\n"
     ]
    }
   ],
   "source": [
    "a = (i for i in range(10))\n",
    "print(\"test\")"
   ]
  },
  {
   "cell_type": "code",
   "execution_count": 136,
   "id": "ddbb6eaf-ceb7-4134-9d2d-2a86ed4319c7",
   "metadata": {
    "tags": []
   },
   "outputs": [
    {
     "name": "stdout",
     "output_type": "stream",
     "text": [
      "test\n"
     ]
    }
   ],
   "source": [
    "def gen():\n",
    "    a = 1\n",
    "    yield a\n",
    "    a = 4\n",
    "    yield a + 1\n",
    "\n",
    "\n",
    "print(\"test\")"
   ]
  },
  {
   "cell_type": "code",
   "execution_count": 137,
   "id": "bbf10c01-768c-43bd-8ecb-85006cdc8b6c",
   "metadata": {
    "tags": []
   },
   "outputs": [
    {
     "data": {
      "text/plain": [
       "1"
      ]
     },
     "execution_count": 137,
     "metadata": {},
     "output_type": "execute_result"
    }
   ],
   "source": [
    "g = gen()  # Create the generator\n",
    "next(g)"
   ]
  },
  {
   "cell_type": "code",
   "execution_count": 139,
   "id": "80048322-90cf-4443-9691-d4ad5f22b249",
   "metadata": {
    "tags": []
   },
   "outputs": [
    {
     "data": {
      "text/plain": [
       "[Token(type=1, string='a', start=(1, 0), end=(1, 1), line='a = (i for i in range(10))\\n', index=0, startpos=0, endpos=1),\n",
       " Token(type=54, string='=', start=(1, 2), end=(1, 3), line='a = (i for i in range(10))\\n', index=1, startpos=2, endpos=3),\n",
       " Token(type=54, string='(', start=(1, 4), end=(1, 5), line='a = (i for i in range(10))\\n', index=2, startpos=4, endpos=5),\n",
       " Token(type=1, string='i', start=(1, 5), end=(1, 6), line='a = (i for i in range(10))\\n', index=3, startpos=5, endpos=6),\n",
       " Token(type=1, string='for', start=(1, 7), end=(1, 10), line='a = (i for i in range(10))\\n', index=4, startpos=7, endpos=10),\n",
       " Token(type=1, string='i', start=(1, 11), end=(1, 12), line='a = (i for i in range(10))\\n', index=5, startpos=11, endpos=12),\n",
       " Token(type=1, string='in', start=(1, 13), end=(1, 15), line='a = (i for i in range(10))\\n', index=6, startpos=13, endpos=15),\n",
       " Token(type=1, string='range', start=(1, 16), end=(1, 21), line='a = (i for i in range(10))\\n', index=7, startpos=16, endpos=21),\n",
       " Token(type=54, string='(', start=(1, 21), end=(1, 22), line='a = (i for i in range(10))\\n', index=8, startpos=21, endpos=22),\n",
       " Token(type=2, string='10', start=(1, 22), end=(1, 24), line='a = (i for i in range(10))\\n', index=9, startpos=22, endpos=24),\n",
       " Token(type=54, string=')', start=(1, 24), end=(1, 25), line='a = (i for i in range(10))\\n', index=10, startpos=24, endpos=25),\n",
       " Token(type=54, string=')', start=(1, 25), end=(1, 26), line='a = (i for i in range(10))\\n', index=11, startpos=25, endpos=26),\n",
       " Token(type=4, string='\\n', start=(1, 26), end=(1, 27), line='a = (i for i in range(10))\\n', index=12, startpos=26, endpos=27),\n",
       " Token(type=1, string='print', start=(2, 0), end=(2, 5), line='print(\"test\")\\n', index=13, startpos=27, endpos=32),\n",
       " Token(type=54, string='(', start=(2, 5), end=(2, 6), line='print(\"test\")\\n', index=14, startpos=32, endpos=33),\n",
       " Token(type=3, string='\"test\"', start=(2, 6), end=(2, 12), line='print(\"test\")\\n', index=15, startpos=33, endpos=39),\n",
       " Token(type=54, string=')', start=(2, 12), end=(2, 13), line='print(\"test\")\\n', index=16, startpos=39, endpos=40),\n",
       " Token(type=4, string='\\n', start=(2, 13), end=(2, 14), line='print(\"test\")\\n', index=17, startpos=40, endpos=41),\n",
       " Token(type=0, string='', start=(3, 0), end=(3, 0), line='', index=18, startpos=41, endpos=41)]"
      ]
     },
     "execution_count": 139,
     "metadata": {},
     "output_type": "execute_result"
    }
   ],
   "source": [
    "t = executing.Source.executing(a.gi_frame).source.asttokens()\n",
    "t.tokens"
   ]
  },
  {
   "cell_type": "code",
   "execution_count": 378,
   "id": "8a346a5e-c1ce-4d08-8178-1d9b3a2091d7",
   "metadata": {
    "tags": []
   },
   "outputs": [
    {
     "name": "stdout",
     "output_type": "stream",
     "text": [
      "def gen():\n",
      "    a = 1\n",
      "    yield a\n",
      "    a = 4\n",
      "    yield a + 1\n",
      "\n"
     ]
    }
   ],
   "source": [
    "def my_function():\n",
    "    print(\"Hello, World!\")\n",
    "\n",
    "\n",
    "# Get the source code\n",
    "source_code = inspect.getsource(gen)\n",
    "print(source_code)"
   ]
  },
  {
   "cell_type": "code",
   "execution_count": null,
   "id": "b1e607a5-46e5-42b8-ae89-b66a6fbf3260",
   "metadata": {},
   "outputs": [],
   "source": []
  },
  {
   "cell_type": "code",
   "execution_count": null,
   "id": "9414ce5e-7903-48da-8dcd-d9c12b00f09a",
   "metadata": {},
   "outputs": [],
   "source": []
  },
  {
   "cell_type": "code",
   "execution_count": 2,
   "id": "0e5e91ed-c575-4cd2-91f0-4029aa9c70c2",
   "metadata": {
    "tags": []
   },
   "outputs": [
    {
     "name": "stdout",
     "output_type": "stream",
     "text": [
      "def my_generator():\n",
      "    for i in range(5):\n",
      "        yield i\n",
      "\n"
     ]
    }
   ],
   "source": [
    "import inspect\n",
    "\n",
    "\n",
    "def my_generator():\n",
    "    for i in range(5):\n",
    "        yield i\n",
    "\n",
    "\n",
    "# Create a generator instance\n",
    "a = my_generator()\n",
    "\n",
    "# Get the source code of the generator function\n",
    "source_code = inspect.getsource(a.gi_code)\n",
    "print(source_code)"
   ]
  },
  {
   "cell_type": "code",
   "execution_count": 3,
   "id": "e76bc387-f472-4b7e-96cd-9a340346892c",
   "metadata": {
    "tags": []
   },
   "outputs": [
    {
     "data": {
      "text/plain": [
       "4"
      ]
     },
     "execution_count": 3,
     "metadata": {},
     "output_type": "execute_result"
    }
   ],
   "source": [
    "current_line = a.gi_frame.f_lineno\n",
    "current_line"
   ]
  },
  {
   "cell_type": "code",
   "execution_count": 4,
   "id": "6fd6a6d1-5ead-4f3c-b86e-97f114a03d47",
   "metadata": {
    "tags": []
   },
   "outputs": [
    {
     "ename": "NameError",
     "evalue": "name 'g' is not defined",
     "output_type": "error",
     "traceback": [
      "\u001b[0;31m---------------------------------------------------------------------------\u001b[0m",
      "\u001b[0;31mNameError\u001b[0m                                 Traceback (most recent call last)",
      "Cell \u001b[0;32mIn[4], line 2\u001b[0m\n\u001b[1;32m      1\u001b[0m \u001b[38;5;66;03m# Access the generator's frame\u001b[39;00m\n\u001b[0;32m----> 2\u001b[0m frame \u001b[38;5;241m=\u001b[39m inspect\u001b[38;5;241m.\u001b[39mgetgeneratorstate(\u001b[43mg\u001b[49m)\n\u001b[1;32m      3\u001b[0m \u001b[38;5;28mprint\u001b[39m(frame)\n",
      "\u001b[0;31mNameError\u001b[0m: name 'g' is not defined"
     ]
    }
   ],
   "source": [
    "# Access the generator's frame\n",
    "frame = inspect.getgeneratorstate(g)\n",
    "print(frame)"
   ]
  },
  {
   "cell_type": "code",
   "execution_count": 88,
   "id": "3af63cd3-05e6-4c45-985f-84451b9fdcda",
   "metadata": {
    "tags": []
   },
   "outputs": [
    {
     "name": "stdout",
     "output_type": "stream",
     "text": [
      "{'a': 1}\n"
     ]
    }
   ],
   "source": [
    "frame = g.gi_frame\n",
    "print(frame.f_locals)"
   ]
  },
  {
   "cell_type": "code",
   "execution_count": 89,
   "id": "54facc8f-687f-403b-894c-6e3ef28116c9",
   "metadata": {
    "tags": []
   },
   "outputs": [
    {
     "data": {
      "text/plain": [
       "['def gen():', '    a = 1', '    yield a', '    a = 4', '    yield a + 1']"
      ]
     },
     "execution_count": 89,
     "metadata": {},
     "output_type": "execute_result"
    }
   ],
   "source": [
    "executing.Source.executing(g.gi_frame).source.lines"
   ]
  },
  {
   "cell_type": "code",
   "execution_count": null,
   "id": "bbb70ef4-ba33-479b-8f33-c2cb29bcdba0",
   "metadata": {},
   "outputs": [],
   "source": []
  },
  {
   "cell_type": "code",
   "execution_count": null,
   "id": "53e77c73-87f1-4f9d-be8c-5e4d23249c20",
   "metadata": {},
   "outputs": [],
   "source": []
  },
  {
   "cell_type": "code",
   "execution_count": 125,
   "id": "e8ae93fc-3972-46c1-b37f-d4571405f966",
   "metadata": {
    "tags": []
   },
   "outputs": [
    {
     "data": {
      "text/plain": [
       "<frame at 0x7fffb9e07f60, file '/tmp/ipykernel_526/25615.py', line 3, code gen>"
      ]
     },
     "execution_count": 125,
     "metadata": {},
     "output_type": "execute_result"
    }
   ],
   "source": [
    "t = executing.Source.executing(g.gi_frame).frame"
   ]
  },
  {
   "cell_type": "code",
   "execution_count": 215,
   "id": "5a121afc-0000-4b6d-9396-57ac598a26fb",
   "metadata": {
    "tags": []
   },
   "outputs": [],
   "source": [
    "def my_generator():\n",
    "    a = 1\n",
    "    yield a\n",
    "    b = a + 1\n",
    "    for i in range(5):\n",
    "        yield i\n",
    "\n",
    "\n",
    "test = my_generator()\n",
    "next(test)\n",
    "next(test)"
   ]
  },
  {
   "cell_type": "code",
   "execution_count": 216,
   "id": "86da4b89-60b0-4626-b8bc-8fb669532f04",
   "metadata": {
    "tags": []
   },
   "outputs": [
    {
     "data": {
      "text/plain": [
       "1"
      ]
     },
     "execution_count": 216,
     "metadata": {},
     "output_type": "execute_result"
    }
   ],
   "source": []
  },
  {
   "cell_type": "code",
   "execution_count": 218,
   "id": "40dc6b63-1592-487b-9a21-ceaf81afc365",
   "metadata": {
    "tags": []
   },
   "outputs": [
    {
     "data": {
      "text/plain": [
       "0"
      ]
     },
     "execution_count": 218,
     "metadata": {},
     "output_type": "execute_result"
    }
   ],
   "source": [
    "next(test)"
   ]
  },
  {
   "cell_type": "code",
   "execution_count": 220,
   "id": "d5a089af-4f6a-426d-a44d-d6a031db6133",
   "metadata": {
    "tags": []
   },
   "outputs": [
    {
     "ename": "ValueError",
     "evalue": "f_lineno can only be set by a trace function",
     "output_type": "error",
     "traceback": [
      "\u001b[0;31m---------------------------------------------------------------------------\u001b[0m",
      "\u001b[0;31mValueError\u001b[0m                                Traceback (most recent call last)",
      "Cell \u001b[0;32mIn[220], line 1\u001b[0m\n\u001b[0;32m----> 1\u001b[0m \u001b[43mtest\u001b[49m\u001b[38;5;241;43m.\u001b[39;49m\u001b[43mgi_frame\u001b[49m\u001b[38;5;241;43m.\u001b[39;49m\u001b[43mf_lineno\u001b[49m \u001b[38;5;241m=\u001b[39m \u001b[38;5;241m3\u001b[39m\n",
      "\u001b[0;31mValueError\u001b[0m: f_lineno can only be set by a trace function"
     ]
    }
   ],
   "source": [
    "test.gi_frame.f_lineno = 3"
   ]
  },
  {
   "cell_type": "code",
   "execution_count": null,
   "id": "2bc9c700-31c3-4a0a-bd02-241a98932af6",
   "metadata": {},
   "outputs": [],
   "source": [
    "import sys\n",
    "\n",
    "\n",
    "def trace_calls(frame, event, arg):\n",
    "    if event == \"call\":\n",
    "        print(f\"Function called: {frame.f_code.co_name} on line {frame.f_lineno}\")\n",
    "    elif event == \"line\":\n",
    "        print(f\"Line {frame.f_lineno}\")\n",
    "    return trace_calls\n",
    "\n",
    "\n",
    "sys.settrace(trace_calls)"
   ]
  },
  {
   "cell_type": "code",
   "execution_count": null,
   "id": "b89b9c14-fafe-4026-8ba4-c315b6a1601c",
   "metadata": {},
   "outputs": [],
   "source": []
  },
  {
   "cell_type": "code",
   "execution_count": 182,
   "id": "f297dc3f-b010-4369-9586-b81cf43d4640",
   "metadata": {
    "tags": []
   },
   "outputs": [
    {
     "data": {
      "text/plain": [
       "'def my_generator():\\n    a = 1\\n    yield a\\n    b = a+1\\n    for i in range(5):\\n        yield i\\n'"
      ]
     },
     "execution_count": 182,
     "metadata": {},
     "output_type": "execute_result"
    }
   ],
   "source": [
    "inspect.getsource(test.gi_code)"
   ]
  },
  {
   "cell_type": "code",
   "execution_count": 213,
   "id": "1b928c82-c2dd-43fd-ab0a-09e0f6d56d09",
   "metadata": {
    "tags": []
   },
   "outputs": [
    {
     "data": {
      "text/plain": [
       "<function inspect.getsource(object)>"
      ]
     },
     "execution_count": 213,
     "metadata": {},
     "output_type": "execute_result"
    }
   ],
   "source": [
    "inspect.getsource"
   ]
  },
  {
   "cell_type": "code",
   "execution_count": 183,
   "id": "f775ef0d-9268-4999-9ab9-ed5e4e6e78d9",
   "metadata": {
    "tags": []
   },
   "outputs": [
    {
     "data": {
      "text/plain": [
       "6"
      ]
     },
     "execution_count": 183,
     "metadata": {},
     "output_type": "execute_result"
    }
   ],
   "source": [
    "test.gi_frame.f_lineno"
   ]
  },
  {
   "cell_type": "code",
   "execution_count": 184,
   "id": "90404622-7478-42c4-8726-7cdacc252c91",
   "metadata": {
    "tags": []
   },
   "outputs": [
    {
     "data": {
      "text/plain": [
       "1"
      ]
     },
     "execution_count": 184,
     "metadata": {},
     "output_type": "execute_result"
    }
   ],
   "source": [
    "next(test)"
   ]
  },
  {
   "cell_type": "code",
   "execution_count": 212,
   "id": "941e0bb1-5b39-4bcb-928b-c6ab1235cfe8",
   "metadata": {
    "tags": []
   },
   "outputs": [
    {
     "data": {
      "text/plain": [
       "<frame at 0x7fffb9e40ed0, file '/tmp/ipykernel_526/839852198.py', line 6, code my_generator>"
      ]
     },
     "execution_count": 212,
     "metadata": {},
     "output_type": "execute_result"
    }
   ],
   "source": [
    "test.gi_frame"
   ]
  },
  {
   "cell_type": "code",
   "execution_count": 208,
   "id": "7aab2675-1fca-4432-b31d-7415cec22d42",
   "metadata": {
    "tags": []
   },
   "outputs": [],
   "source": [
    "a = range(4)"
   ]
  },
  {
   "cell_type": "code",
   "execution_count": 214,
   "id": "7f5088fb-83e9-4973-93dc-524a3cb56eae",
   "metadata": {
    "tags": []
   },
   "outputs": [
    {
     "name": "stdout",
     "output_type": "stream",
     "text": [
      "1\n",
      "2\n",
      "3\n",
      "4\n"
     ]
    }
   ],
   "source": [
    "for i in range(1, 5):\n",
    "    print(i)"
   ]
  },
  {
   "cell_type": "code",
   "execution_count": 251,
   "id": "7423a176-eece-4514-af0f-557076e40ab7",
   "metadata": {
    "tags": []
   },
   "outputs": [
    {
     "name": "stdout",
     "output_type": "stream",
     "text": [
      "hola\n",
      "1\n",
      "3\n"
     ]
    },
    {
     "ename": "AttributeError",
     "evalue": "'int' object has no attribute 'gi_frame'",
     "output_type": "error",
     "traceback": [
      "\u001b[0;31m---------------------------------------------------------------------------\u001b[0m",
      "\u001b[0;31mAttributeError\u001b[0m                            Traceback (most recent call last)",
      "Cell \u001b[0;32mIn[251], line 27\u001b[0m\n\u001b[1;32m     25\u001b[0m \u001b[38;5;28mprint\u001b[39m(a)\n\u001b[1;32m     26\u001b[0m \u001b[38;5;66;03m# Turn off tracing after we're done\u001b[39;00m\n\u001b[0;32m---> 27\u001b[0m sys\u001b[38;5;241m.\u001b[39msettrace(\u001b[43ma\u001b[49m\u001b[38;5;241;43m.\u001b[39;49m\u001b[43mgi_frame\u001b[49m)\n",
      "\u001b[0;31mAttributeError\u001b[0m: 'int' object has no attribute 'gi_frame'"
     ]
    }
   ],
   "source": [
    "import sys\n",
    "\n",
    "\n",
    "def trace_calls(frame, event, arg):\n",
    "    if event == \"line\":\n",
    "        if frame.f_code.co_name == \"my_generator\" and frame.f_lineno == 3:\n",
    "            # Force the execution to \"jump\" back to line 1\n",
    "            frame.f_lineno = 1\n",
    "    return trace_calls\n",
    "\n",
    "\n",
    "def my_generator():\n",
    "    a = 1\n",
    "    print(\"hola\")\n",
    "    yield a\n",
    "    b = a + 1\n",
    "    for i in range(3, 5):\n",
    "        yield i\n",
    "\n",
    "\n",
    "# Set the trace function\n",
    "sys.settrace(trace_calls)\n",
    "\n",
    "test = my_generator()\n",
    "a = next(test)  # Will execute the first yield (line 3)\n",
    "print(a)\n",
    "a = next(test)  # Will execute the second yield (line 5)\n",
    "print(a)\n",
    "# Turn off tracing after we're done\n",
    "sys.settrace(a.gi_frame)"
   ]
  },
  {
   "cell_type": "code",
   "execution_count": 250,
   "id": "2025e09b-a26a-4ac6-9022-34d90d818ebc",
   "metadata": {
    "tags": []
   },
   "outputs": [
    {
     "data": {
      "text/plain": [
       "4"
      ]
     },
     "execution_count": 250,
     "metadata": {},
     "output_type": "execute_result"
    }
   ],
   "source": [
    "next(test)"
   ]
  },
  {
   "cell_type": "code",
   "execution_count": 307,
   "id": "b2f43319-8bfa-4272-b4c2-a341173f0488",
   "metadata": {
    "tags": []
   },
   "outputs": [
    {
     "data": {
      "text/plain": [
       "70.0"
      ]
     },
     "execution_count": 307,
     "metadata": {},
     "output_type": "execute_result"
    }
   ],
   "source": [
    "def avg():\n",
    "    i = 1\n",
    "    new = yield None\n",
    "    while True:\n",
    "        new += yield new / i\n",
    "        i += 1\n",
    "\n",
    "\n",
    "t = avg()\n",
    "next(t)\n",
    "t.send(0)  # 0/1 =0\n",
    "\n",
    "t.send(100)  # (0+100)/2 = 50\n",
    "\n",
    "# provisional value\n",
    "t.send(100)  # (0+100+ 100)/3 = 66.66666666666667\n",
    "\n",
    "# definitive\n",
    "t.send(80)  # (0+100+ 80)/3 = 60"
   ]
  },
  {
   "cell_type": "code",
   "execution_count": 308,
   "id": "02574b94-3494-4dba-a07e-116c7b2a1e2d",
   "metadata": {
    "tags": []
   },
   "outputs": [
    {
     "data": {
      "text/plain": [
       "60.0"
      ]
     },
     "execution_count": 308,
     "metadata": {},
     "output_type": "execute_result"
    }
   ],
   "source": []
  },
  {
   "cell_type": "code",
   "execution_count": 309,
   "id": "5883bc0c-f7e0-4c5e-b2d1-e25355348a2b",
   "metadata": {
    "tags": []
   },
   "outputs": [
    {
     "data": {
      "text/plain": [
       "65.0"
      ]
     },
     "execution_count": 309,
     "metadata": {},
     "output_type": "execute_result"
    }
   ],
   "source": [
    "def avg():\n",
    "    i = 1\n",
    "    new = yield None\n",
    "    while True:\n",
    "        new += yield new / i\n",
    "        i += 1\n",
    "\n",
    "\n",
    "t = avg()\n",
    "next(t)\n",
    "t.send(0)  # 0/1 =0\n",
    "\n",
    "t.send(100)  # (0+100)/2 = 50\n",
    "\n",
    "# provisional value\n",
    "t.send(80)  # (0+100+ 100)/3 = 66.66666666666667\n",
    "\n",
    "# definitive\n",
    "t.send(80)  # (0+100+ 80)/3 = 60"
   ]
  },
  {
   "cell_type": "code",
   "execution_count": 338,
   "id": "3ab1377e-9259-45f5-aaa9-62b4b539366d",
   "metadata": {
    "tags": []
   },
   "outputs": [
    {
     "name": "stdout",
     "output_type": "stream",
     "text": [
      "{'i': 10, 'new': 740}\n"
     ]
    }
   ],
   "source": [
    "frame = t.gi_frame\n",
    "print(frame.f_locals)"
   ]
  },
  {
   "cell_type": "code",
   "execution_count": 339,
   "id": "66ade7a8-0213-4d89-a67b-4726dbc04cc7",
   "metadata": {
    "tags": []
   },
   "outputs": [
    {
     "data": {
      "text/plain": [
       "{'i': 10, 'new': 740}"
      ]
     },
     "execution_count": 339,
     "metadata": {},
     "output_type": "execute_result"
    }
   ],
   "source": [
    "frame.f_locals"
   ]
  },
  {
   "cell_type": "code",
   "execution_count": 328,
   "id": "f4632108-ae6c-4840-8085-0173348034e2",
   "metadata": {
    "tags": []
   },
   "outputs": [
    {
     "name": "stdout",
     "output_type": "stream",
     "text": [
      "{'i': 10, 'new': 740}\n"
     ]
    }
   ],
   "source": [
    "for k, v in {\"i\": 4, \"new\": 260}.items():\n",
    "    frame.f_locals[k] = v\n",
    "print(frame.f_locals)"
   ]
  },
  {
   "cell_type": "code",
   "execution_count": 330,
   "id": "01172ea4-85d2-4322-9704-b8dd5fd49138",
   "metadata": {
    "tags": []
   },
   "outputs": [],
   "source": [
    "frame.f_locals[\"i\"] = 2"
   ]
  },
  {
   "cell_type": "code",
   "execution_count": null,
   "id": "facfbf3b-207d-48c9-af96-a5b90ad4f8ae",
   "metadata": {
    "tags": []
   },
   "outputs": [],
   "source": []
  },
  {
   "cell_type": "code",
   "execution_count": 325,
   "id": "4ebdd46f-be9c-43af-b892-b6399bb20375",
   "metadata": {
    "tags": []
   },
   "outputs": [
    {
     "data": {
      "text/plain": [
       "74.0"
      ]
     },
     "execution_count": 325,
     "metadata": {},
     "output_type": "execute_result"
    }
   ],
   "source": [
    "t.send(80)"
   ]
  },
  {
   "cell_type": "code",
   "execution_count": null,
   "id": "49279b4b-e17b-45dd-8e4a-29fc9458f792",
   "metadata": {},
   "outputs": [],
   "source": []
  },
  {
   "cell_type": "code",
   "execution_count": null,
   "id": "80052b49-1e8a-4262-aae8-79682506dd71",
   "metadata": {},
   "outputs": [],
   "source": []
  },
  {
   "cell_type": "code",
   "execution_count": 377,
   "id": "93ca5afe-569e-42f7-bf63-3fed45623182",
   "metadata": {
    "tags": []
   },
   "outputs": [
    {
     "name": "stdout",
     "output_type": "stream",
     "text": [
      "30\n",
      "30\n",
      "30\n",
      "30\n",
      "30\n",
      "30\n",
      "2\n"
     ]
    }
   ],
   "source": [
    "import sys\n",
    "from types import FrameType\n",
    "\n",
    "\n",
    "def tracer(frame: FrameType, event: str, arg):\n",
    "    if event == \"line\":\n",
    "        # Print the line being executed\n",
    "        code = linecache.getline(frame.f_code.co_filename, frame.f_lineno).strip()\n",
    "        # print(f\"Executing line {frame.f_lineno}: {linecache.getline(frame.f_code.co_filename, frame.f_lineno).strip()}\") #   - {frame.f_code.co_name}\n",
    "        # code frame.f_code.co_name\n",
    "        # Check if we're at the print line and loop isn't finished\n",
    "        if code == \"test()\":\n",
    "            print(frame.f_lineno)\n",
    "            if tracer.counter < 5:  # Control the number of iterations\n",
    "                tracer.counter += 1\n",
    "                frame.f_lineno = 4  # Jump back to \"a += 1\"\n",
    "    return tracer\n",
    "\n",
    "\n",
    "def test():\n",
    "    a = 1\n",
    "    a += 1  # Increment\n",
    "    print(a)  # Print value\n",
    "    # Execution should go back to a+=1 five times\n",
    "\n",
    "\n",
    "import linecache\n",
    "\n",
    "tracer.counter = 0\n",
    "\n",
    "# Apply the tracer\n",
    "sys.settrace(tracer)\n",
    "try:\n",
    "    test()\n",
    "finally:\n",
    "    sys.settrace(None)"
   ]
  },
  {
   "cell_type": "code",
   "execution_count": null,
   "id": "ef893f54-3af2-4238-91e1-b311228eb879",
   "metadata": {},
   "outputs": [],
   "source": []
  },
  {
   "cell_type": "code",
   "execution_count": 390,
   "id": "c24a4356-c69c-4c0e-b46e-c75fc43ce12c",
   "metadata": {
    "tags": []
   },
   "outputs": [
    {
     "data": {
      "text/plain": [
       "50.0"
      ]
     },
     "execution_count": 390,
     "metadata": {},
     "output_type": "execute_result"
    }
   ],
   "source": [
    "def avg():\n",
    "    i = 1\n",
    "    new = yield None\n",
    "    while True:\n",
    "        new += yield new / i\n",
    "        i += 1\n",
    "\n",
    "\n",
    "t = avg()\n",
    "next(t)\n",
    "t.send(0)  # 0/1 =0\n",
    "\n",
    "t.send(100)  # (0+100)/2 = 50"
   ]
  },
  {
   "cell_type": "code",
   "execution_count": 391,
   "id": "bb48a605-79a5-4e95-a102-3e3ab21b38af",
   "metadata": {
    "tags": []
   },
   "outputs": [
    {
     "name": "stdout",
     "output_type": "stream",
     "text": [
      "def avg():\n",
      "    i = 1\n",
      "    new = yield None\n",
      "    while True:\n",
      "        new+= yield new/i\n",
      "        i+=1\n",
      "\n"
     ]
    }
   ],
   "source": [
    "source_code = inspect.getsource(t.gi_code)\n",
    "print(source_code)"
   ]
  },
  {
   "cell_type": "code",
   "execution_count": 399,
   "id": "5336edc5-d7dd-45a6-b049-1240d0e122e9",
   "metadata": {
    "tags": []
   },
   "outputs": [],
   "source": [
    "line = t.gi_frame.f_lineno - 1"
   ]
  },
  {
   "cell_type": "code",
   "execution_count": null,
   "id": "07636125-7945-45ca-9091-46ba4dcf7b4b",
   "metadata": {},
   "outputs": [],
   "source": []
  },
  {
   "cell_type": "code",
   "execution_count": 414,
   "id": "4cbdd65c-50f8-4db7-ade5-5ac3c1acf667",
   "metadata": {
    "tags": []
   },
   "outputs": [
    {
     "data": {
      "text/plain": [
       "65.0"
      ]
     },
     "execution_count": 414,
     "metadata": {},
     "output_type": "execute_result"
    }
   ],
   "source": [
    "# provisional value\n",
    "t.send(80)  # (0+100+ 100)/3 = 66.66666666666667\n",
    "\n",
    "# definitive\n",
    "t.send(80)  # (0+100+ 80)/3 = 60"
   ]
  },
  {
   "cell_type": "code",
   "execution_count": 1,
   "id": "1305a26b-0348-4228-ac7b-86328de67d56",
   "metadata": {
    "tags": []
   },
   "outputs": [
    {
     "name": "stdout",
     "output_type": "stream",
     "text": [
      "testing\n"
     ]
    }
   ],
   "source": [
    "from helpers import (\n",
    "    Code,\n",
    "    get_implicit_iterator_in_for_loop_everywhere,\n",
    "    get_implicit_iterator_in_for_loop,\n",
    "    tests,\n",
    ")\n",
    "import inspect"
   ]
  },
  {
   "cell_type": "code",
   "execution_count": 2,
   "id": "304720b2-4517-45c4-adc7-806e40e68c6f",
   "metadata": {
    "tags": []
   },
   "outputs": [],
   "source": [
    "def test(a):\n",
    "    a = a + 2\n",
    "    yield a\n",
    "    while True:\n",
    "        a += 1\n",
    "        if a > 5:\n",
    "            yield a\n",
    "        a += 2"
   ]
  },
  {
   "cell_type": "code",
   "execution_count": 19,
   "id": "64fe7f36-be88-4a92-9687-2b11ed1493e0",
   "metadata": {
    "tags": []
   },
   "outputs": [],
   "source": [
    "def my_copy(generator):\n",
    "    code = Code.from_generator(generator)\n",
    "    args = generator.gi_frame.f_locals.copy()  # need to pass all globals that may be used as well.\n",
    "    args = \",\".join(f\"{k}={v}\" for k, v in args.items())\n",
    "    return _my_copy(code, args)\n",
    "\n",
    "\n",
    "def _my_copy(code, args, current=None):\n",
    "    # function def, not really needed, but fine\n",
    "\n",
    "    new_code = current if current else Code(f\"def saved({args}):\\n\")\n",
    "    line = code.running_line + 1\n",
    "\n",
    "    # start with the most extenral block\n",
    "    if code.block in [\"if\", \"else:\", \"elif\"]:\n",
    "        # if if is inside a while\n",
    "        new_code += \"    if True:\"\n",
    "        new_code += \"        pass\"\n",
    "    elif code.block == \"while\":\n",
    "        # If while is found the rest of the iteration goes to the top. as is the starting point\n",
    "        new_code += code.scope_after.dedent.indent\n",
    "        line = code.block_start_line\n",
    "    elif code.block == \"for\":\n",
    "        # worst case as we need to capture the iterator with magic\n",
    "        new_code += code.scope_after.dedent.indent\n",
    "        new_code += \"for NOTIMPLEMENTED\"\n",
    "        line = code.block_start_line + 1\n",
    "\n",
    "    # main code\n",
    "    new_code += code[line:]\n",
    "\n",
    "    # executor\n",
    "    new_code += f\"n = saved({args})\"\n",
    "    print(new_code.code)\n",
    "    exec(new_code.code)\n",
    "    return eval(\"n\")"
   ]
  },
  {
   "cell_type": "code",
   "execution_count": 20,
   "id": "c6277881-0b76-479b-a3e7-943ad7e7a057",
   "metadata": {
    "tags": []
   },
   "outputs": [
    {
     "data": {
      "text/plain": [
       "13"
      ]
     },
     "execution_count": 20,
     "metadata": {},
     "output_type": "execute_result"
    }
   ],
   "source": [
    "t1 = test(10)\n",
    "next(t1)\n",
    "next(t1)"
   ]
  },
  {
   "cell_type": "code",
   "execution_count": 21,
   "id": "d0444360-3111-403a-9368-23e79ce2a73d",
   "metadata": {
    "tags": []
   },
   "outputs": [],
   "source": [
    "code = Code.from_generator(t1)"
   ]
  },
  {
   "cell_type": "code",
   "execution_count": 22,
   "id": "5fbc6f78-14ef-4822-911b-09505bd491bf",
   "metadata": {
    "tags": []
   },
   "outputs": [
    {
     "data": {
      "text/plain": [
       "def test(a):\n",
       "    a = a +2\n",
       "    yield a \n",
       "    while True:\n",
       "        a +=1 \n",
       "        if a >5:\n",
       "            yield a \n",
       "        a+=2"
      ]
     },
     "execution_count": 22,
     "metadata": {},
     "output_type": "execute_result"
    }
   ],
   "source": [
    "code"
   ]
  },
  {
   "cell_type": "code",
   "execution_count": 24,
   "id": "a89a531d-d9a1-465a-9051-54928e9c37fe",
   "metadata": {
    "tags": []
   },
   "outputs": [
    {
     "data": {
      "text/plain": [
       "'            yield a '"
      ]
     },
     "execution_count": 24,
     "metadata": {},
     "output_type": "execute_result"
    }
   ],
   "source": [
    "code.running_line_txt"
   ]
  },
  {
   "cell_type": "code",
   "execution_count": null,
   "id": "5bdda292-614e-431f-b430-91fa38c3cea5",
   "metadata": {},
   "outputs": [],
   "source": []
  },
  {
   "cell_type": "code",
   "execution_count": null,
   "id": "539311f2-ce6c-4087-b258-32c3c4abe44d",
   "metadata": {},
   "outputs": [],
   "source": []
  },
  {
   "cell_type": "code",
   "execution_count": null,
   "id": "185880fb-6704-4f55-873c-e382e706a8af",
   "metadata": {},
   "outputs": [],
   "source": [
    "10000 -> 1000 -> 100 \n",
    "          900 -> 100"
   ]
  },
  {
   "cell_type": "code",
   "execution_count": null,
   "id": "2f60caf7-afe8-4819-ba02-6d6657f2cc12",
   "metadata": {},
   "outputs": [],
   "source": []
  },
  {
   "cell_type": "markdown",
   "id": "6b289ba0-bc0a-43b3-afb9-954c9157b584",
   "metadata": {},
   "source": [
    "----------------------------\n",
    "\n",
    "if a:\n",
    "    code1()\n",
    "    yield b # x\n",
    "    code2()\n",
    "elif:\n",
    "    yield c\n",
    "else:\n",
    "    yield d\n",
    "   \n",
    "Sol:\n",
    "yield b # x\n",
    "code2()\n",
    "\n",
    "----------------------------\n",
    "    \n",
    "if a:\n",
    "    yield b\n",
    "elif:\n",
    "    yield c  # x\n",
    "else:\n",
    "    yield d\n",
    "\n",
    "Sol: \n",
    "yield c # x\n",
    "\n",
    "----------------------------\n",
    "\n",
    "while True:\n",
    "    code_a()\n",
    "    yield a  # x\n",
    "    code_b()\n",
    "    \n",
    "Sol 1:\n",
    "yield a\n",
    "code_b()\n",
    "while True:\n",
    "    code_a()\n",
    "    yield a\n",
    "    code_b()\n",
    "    \n",
    "----------------------------\n",
    "\n",
    "while condition:\n",
    "    condition = code_a()\n",
    "    yield a  # x \n",
    "    condition = code_b()\n",
    "    \n",
    "    \n",
    "yield a\n",
    "condition = code_b()\n",
    "while condition:\n",
    "    condition = code_a()\n",
    "    yield a\n",
    "    condition = code_b()\n",
    "   \n",
    "----------------------------\n",
    "   \n",
    "b = list...\n",
    "for a in b:\n",
    "    code_a() \n",
    "    yield a  # x\n",
    "    code_b()\n",
    "    \n",
    "\n",
    "yield a  # x\n",
    "code_b()\n",
    "c = b[curr:] # hard to get but can be done in some cases.\n",
    "for a in c:\n",
    "    code_a() \n",
    "    yield a  # x\n",
    "    code_b()\n",
    "    \n",
    "----------------------------\n",
    "for a in [1,3,4]: # same as before but I wasn't able to find the iterable of this in the gc yet.\n",
    "    code_a() \n",
    "    yield a  # x\n",
    "    code_b()\n",
    "    \n",
    "----------------------------\n",
    "\n",
    "while cond1:\n",
    "    code1()\n",
    "    while cond2:\n",
    "        code2()\n",
    "        yield b\n",
    "        code3()\n",
    "    code4\n",
    "        \n",
    "\n",
    "yield b\n",
    "code3()\n",
    "while cond2:\n",
    "    code2()\n",
    "    yield b\n",
    "    code3()\n",
    "code4\n",
    "\n",
    "while cond1:\n",
    "    code1()\n",
    "    while cond2:\n",
    "        code2()\n",
    "        yield b\n",
    "        code3()\n",
    "    code4\n",
    "    \n",
    "    \n",
    "In general if we have a loop we need to:\n",
    "\n",
    "1 finish iteration\n",
    "2 finish loop from the iteration we are on\n",
    "3.1 if outter loop, finish outer iteration\n",
    "    3.2 finish outer loop from the iteration we are on and all iterations in the inner one\n",
    "4.1 if outter outter loop, finish outter outter iteration\n",
    "    4.2 finish outer outer loop from the iteration we are on and all iterations in both inner ones\n",
    "repeat 4 four outterx3 etc."
   ]
  },
  {
   "cell_type": "code",
   "execution_count": null,
   "id": "7f75dcbd-36e6-432b-9617-348a127013a1",
   "metadata": {},
   "outputs": [],
   "source": [
    "T"
   ]
  }
 ],
 "metadata": {
  "kernelspec": {
   "display_name": ".venv",
   "language": "python",
   "name": "python3"
  },
  "language_info": {
   "codemirror_mode": {
    "name": "ipython",
    "version": 3
   },
   "file_extension": ".py",
   "mimetype": "text/x-python",
   "name": "python",
   "nbconvert_exporter": "python",
   "pygments_lexer": "ipython3",
   "version": "3.12.0"
  }
 },
 "nbformat": 4,
 "nbformat_minor": 5
}
